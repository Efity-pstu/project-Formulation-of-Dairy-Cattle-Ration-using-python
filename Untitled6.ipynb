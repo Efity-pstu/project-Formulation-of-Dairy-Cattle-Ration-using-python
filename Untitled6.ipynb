{
 "cells": [
  {
   "cell_type": "code",
   "execution_count": 1,
   "id": "62348e1e-1e9b-4465-a363-174ce324a73c",
   "metadata": {},
   "outputs": [
    {
     "name": "stdin",
     "output_type": "stream",
     "text": [
      "Enter number of cattle:  6\n"
     ]
    },
    {
     "name": "stdout",
     "output_type": "stream",
     "text": [
      "\n",
      "Cattle 1:\n"
     ]
    },
    {
     "name": "stdin",
     "output_type": "stream",
     "text": [
      "  Enter Tag Number:  1001\n",
      "  Enter Breed (HF / Sahiwal / Cross / Deshi/ Jersey):  HF\n",
      "  Enter Heart Girth (inch):  65\n",
      "  Enter Body Length (inch):  55\n",
      "  Type (F for Fattening / D for Dairy):  D\n",
      "  Enter Milk Yield (kg/day):  20\n",
      "  Enter Butter Fat %:  44\n",
      "  Enter SNF %:  86\n",
      "  Enter Pregnancy Month (0 if not pregnant):  0\n"
     ]
    },
    {
     "name": "stdout",
     "output_type": "stream",
     "text": [
      "\n",
      "Cattle 2:\n"
     ]
    },
    {
     "name": "stdin",
     "output_type": "stream",
     "text": [
      "  Enter Tag Number:  1002\n",
      "  Enter Breed (HF / Sahiwal / Cross / Deshi/ Jersey):  cross\n",
      "  Enter Heart Girth (inch):  60\n",
      "  Enter Body Length (inch):  55\n",
      "  Type (F for Fattening / D for Dairy):  D\n",
      "  Enter Milk Yield (kg/day):  10\n",
      "  Enter Butter Fat %:  43\n",
      "  Enter SNF %:  82\n",
      "  Enter Pregnancy Month (0 if not pregnant):  0\n"
     ]
    },
    {
     "name": "stdout",
     "output_type": "stream",
     "text": [
      "\n",
      "Cattle 3:\n"
     ]
    },
    {
     "name": "stdin",
     "output_type": "stream",
     "text": [
      "  Enter Tag Number:  1003\n",
      "  Enter Breed (HF / Sahiwal / Cross / Deshi/ Jersey):  Jersey\n",
      "  Enter Heart Girth (inch):  60\n",
      "  Enter Body Length (inch):  5\n",
      "  Type (F for Fattening / D for Dairy):  D\n",
      "  Enter Milk Yield (kg/day):  15\n",
      "  Enter Butter Fat %:  42\n",
      "  Enter SNF %:  84\n",
      "  Enter Pregnancy Month (0 if not pregnant):  5\n"
     ]
    },
    {
     "name": "stdout",
     "output_type": "stream",
     "text": [
      "\n",
      "Cattle 4:\n"
     ]
    },
    {
     "name": "stdin",
     "output_type": "stream",
     "text": [
      "  Enter Tag Number:  1004\n",
      "  Enter Breed (HF / Sahiwal / Cross / Deshi/ Jersey):  Sahiwal\n",
      "  Enter Heart Girth (inch):  70\n",
      "  Enter Body Length (inch):  63\n",
      "  Type (F for Fattening / D for Dairy):  F\n",
      "  Enter Daily Live Weight Gain (kg):  0.70\n"
     ]
    },
    {
     "name": "stdout",
     "output_type": "stream",
     "text": [
      "\n",
      "Cattle 5:\n"
     ]
    },
    {
     "name": "stdin",
     "output_type": "stream",
     "text": [
      "  Enter Tag Number:  1005\n",
      "  Enter Breed (HF / Sahiwal / Cross / Deshi/ Jersey):  HF\n",
      "  Enter Heart Girth (inch):  65\n",
      "  Enter Body Length (inch):  58\n",
      "  Type (F for Fattening / D for Dairy):  F\n",
      "  Enter Daily Live Weight Gain (kg):  0.69\n"
     ]
    },
    {
     "name": "stdout",
     "output_type": "stream",
     "text": [
      "\n",
      "Cattle 6:\n"
     ]
    },
    {
     "name": "stdin",
     "output_type": "stream",
     "text": [
      "  Enter Tag Number:  1006\n",
      "  Enter Breed (HF / Sahiwal / Cross / Deshi/ Jersey):  HF\n",
      "  Enter Heart Girth (inch):  62\n",
      "  Enter Body Length (inch):  60\n",
      "  Type (F for Fattening / D for Dairy):  F\n",
      "  Enter Daily Live Weight Gain (kg):  0.60\n"
     ]
    },
    {
     "name": "stdout",
     "output_type": "stream",
     "text": [
      "\n",
      "Cattle Weight, Energy, Protein & DCP Requirement:\n",
      "Tag       Breed             Type  Weight(kg)  Energy(MJ/day)    DCP(g/day)  Milk(kg/d)  Preg(Mo)  TP(g/day)   RDP(g/day)  UDP(g/day)  CP(g/day)   \n",
      "------------------------------------------------------------------------------------------------------------------------------------------------------\n",
      "1001      HF                D     352.08      149.62            1321.57     20.00       0         761.13      1167.04     518.63      1685.67     \n",
      "1002      cross             D     300.00      88.20             763.09      10.00       0         407.52      687.96      227.12      915.08      \n",
      "1003      Jersey            D     27.27       89.74             847.39      15.00       5         537.22      699.97      465.21      1165.18     \n",
      "1004      Sahiwal           F     467.73      64.89             477.59      0.00        0         378.98      506.14      318.28      824.42      \n",
      "1005      HF                F     371.29      54.20             409.97      0.00        0         369.02      422.76      366.08      788.84      \n",
      "1006      HF                F     349.45      49.97             388.77      0.00        0         327.62      389.77      313.45      703.22      \n",
      "\n",
      "Data also saved to 'cattle_data.csv'\n"
     ]
    }
   ],
   "source": [
    "import math\n",
    "\n",
    "# -------- Weight & Energy Requirements -------- #\n",
    "\n",
    "def estimated_cattle_weight(heart_girth, body_length):\n",
    "    \"\"\"Estimate cattle weight using Schaffer's formula.\"\"\"\n",
    "    weight = (heart_girth**2 * body_length) / 660\n",
    "    return round(weight, 2)\n",
    "\n",
    "def fattening_energy_req(weight, LWG):\n",
    "    Mm = 8.3 + 0.091 * weight\n",
    "    MEg = 1.05 * (LWG * (6.28 + 0.0188 * weight) / (1 - 0.30 * LWG))\n",
    "    Eng = Mm + MEg\n",
    "    return round(Eng, 2)\n",
    "\n",
    "def dairy_energy_req(weight, milk_quantity, Butter_fat, SNF):\n",
    "    Mm = 8.3 + 0.091 * weight\n",
    "    EVL = 0.0386 * Butter_fat + 0.0205 * SNF - 0.236\n",
    "    EVL_total = EVL * milk_quantity\n",
    "    MEL = 1.694 * EVL_total\n",
    "    Eng = Mm + MEL\n",
    "    return round(Eng, 2)\n",
    "\n",
    "# -------- Dry Matter Intake -------- #\n",
    "\n",
    "def dmi_req(weight):\n",
    "    if 150 <= weight <= 250:\n",
    "        return 0.035\n",
    "    elif 251 <= weight <= 350:\n",
    "        return 0.03\n",
    "    elif 351 <= weight <= 500:\n",
    "        return 0.0275\n",
    "    elif 501 <= weight <= 750:\n",
    "        return 0.025\n",
    "    elif 751 <= weight <= 1000:\n",
    "        return 0.0225\n",
    "    else:\n",
    "        return 0.03\n",
    "\n",
    "# -------- Nitrogen Retention -------- #\n",
    "\n",
    "def retention_nitrogen_growth(LWG):\n",
    "    if LWG <= 0.690:\n",
    "        return 0.024\n",
    "    elif 0.700 <= LWG <= 0.900:\n",
    "        return 0.025\n",
    "    else:\n",
    "        return 0.0\n",
    "\n",
    "def retention_nitrogen_pregnancy(month):\n",
    "    pregnancy_retention = {5: 1.7, 6: 1.7, 7: 5.1, 8: 12.1, 9: 29.0}\n",
    "    return pregnancy_retention.get(month, 0)\n",
    "\n",
    "# -------- DCP Requirement -------- #\n",
    "\n",
    "def dcp_requirement(weight, cattle_type, LWG=0, milk_qty=0, pregnancy_month=0):\n",
    "    BV = 70\n",
    "    EUN = 0.146 * weight**0.75\n",
    "    S1 = 0.02 * weight**0.75\n",
    "    G = (LWG * retention_nitrogen_growth(LWG) * 1000) if cattle_type == \"F\" else 0                                   #weight if cattle_type==\"F\" else 0\n",
    "    P = retention_nitrogen_pregnancy(pregnancy_month) if cattle_type==\"D\" and pregnancy_month>0 else 0\n",
    "    L = 0.6 * 10 * milk_qty if cattle_type==\"D\" else 0\n",
    "    MFN = 5 * dmi_req(weight) * weight  \n",
    "    \n",
    "    AP = (EUN + S1 + G + P + L) * 6.25 * (100/BV)\n",
    "    DCP = AP + MFN * 6.25 * ((100/BV)-1)\n",
    "    return round(DCP, 2)\n",
    "\n",
    "# -------- Protein Requirements -------- #\n",
    "\n",
    "def protein_requirements(weight, milk_qty, energy, cattle_type, LWG=0):\n",
    "    \"\"\"Calculate TP, RDP, UDP, and CP for Dairy or Fattening cattle.\"\"\"\n",
    "    EUN = 6.25 * (5.9206 * math.log10(weight) - 6.76)\n",
    "    dermal_loss = 6.25 * (0.018 * weight**0.75)\n",
    "    \n",
    "    if cattle_type == \"D\":  # Dairy\n",
    "        milk_prod = 3.5 * 10 * milk_qty\n",
    "        TP = EUN + dermal_loss + milk_prod\n",
    "    else:  # Fattening\n",
    "        growth = (200 * LWG) / 0.45       #200 g protein/kg gain (default for cattle tissue), efficiency of protein use for growth\n",
    "        TP = EUN + dermal_loss + growth\n",
    "    \n",
    "    RDP = 7.8 * energy\n",
    "    UDP = 1.91 * TP - 6.25 * energy\n",
    "    CP = RDP + UDP\n",
    "    \n",
    "    return round(TP, 2), round(RDP, 2), round(UDP, 2), round(CP, 2)\n",
    "\n",
    "# -------------------- Main Program -------------------- #\n",
    "\n",
    "num_cattle = int(input(\"Enter number of cattle: \"))\n",
    "cattle_list = []\n",
    "\n",
    "for i in range(num_cattle):\n",
    "    print(f\"\\nCattle {i+1}:\")\n",
    "    tag = input(\"  Enter Tag Number: \")\n",
    "    breed = input(\"  Enter Breed (HF / Sahiwal / Cross / Deshi/ Jersey): \")\n",
    "    heart_girth = float(input(\"  Enter Heart Girth (inch): \"))\n",
    "    body_length = float(input(\"  Enter Body Length (inch): \"))\n",
    "    weight = estimated_cattle_weight(heart_girth, body_length)\n",
    "\n",
    "    cattle_type = input(\"  Type (F for Fattening / D for Dairy): \").strip().upper()\n",
    "\n",
    "    LWG = 0\n",
    "    milk_qty = 0\n",
    "    pregnancy_month = 0\n",
    "\n",
    "    if cattle_type == \"F\":\n",
    "        LWG = float(input(\"  Enter Daily Live Weight Gain (kg): \"))\n",
    "        energy = fattening_energy_req(weight, LWG)\n",
    "    else:\n",
    "        milk_qty = float(input(\"  Enter Milk Yield (kg/day): \"))\n",
    "        Butter_fat = float(input(\"  Enter Butter Fat %: \"))\n",
    "        SNF = float(input(\"  Enter SNF %: \"))\n",
    "        pregnancy_month = int(input(\"  Enter Pregnancy Month (0 if not pregnant): \"))\n",
    "        energy = dairy_energy_req(weight, milk_qty, Butter_fat, SNF)\n",
    "\n",
    "    dcp = dcp_requirement(weight, cattle_type, LWG, milk_qty, pregnancy_month)\n",
    "    \n",
    "    #  Pass LWG properly here\n",
    "    TP, RDP, UDP, CP = protein_requirements(weight, milk_qty, energy, cattle_type, LWG)\n",
    "\n",
    "    cattle_list.append({\n",
    "        \"tag\": tag,\n",
    "        \"breed\": breed,\n",
    "        \"weight\": weight,\n",
    "        \"energy\": energy,\n",
    "        \"dcp\": dcp,\n",
    "        \"type\": cattle_type,\n",
    "        \"milk\": milk_qty,\n",
    "        \"preg_month\": pregnancy_month,\n",
    "        \"TP\": TP,\n",
    "        \"RDP\": RDP,\n",
    "        \"UDP\": UDP,\n",
    "        \"CP\": CP\n",
    "    })\n",
    "\n",
    "# --- Output ---\n",
    "print(\"\\nCattle Weight, Energy, Protein & DCP Requirement:\")\n",
    "print(f\"{'Tag':<10}{'Breed':<18}{'Type':<6}\"\n",
    "      f\"{'Weight(kg)':<12}{'Energy(MJ/day)':<18}{'DCP(g/day)':<12}\"\n",
    "      f\"{'Milk(kg/d)':<12}{'Preg(Mo)':<10}\"\n",
    "      f\"{'TP(g/day)':<12}{'RDP(g/day)':<12}{'UDP(g/day)':<12}{'CP(g/day)':<12}\")\n",
    "print(\"-\" * 150)\n",
    "\n",
    "for c in cattle_list:\n",
    "    print(f\"{c['tag']:<10}{c['breed']:<18}{c['type']:<6}\"\n",
    "          f\"{c['weight']:<12.2f}{c['energy']:<18.2f}{c['dcp']:<12.2f}\"\n",
    "          f\"{c['milk']:<12.2f}{c['preg_month']:<10d}\"\n",
    "          f\"{c['TP']:<12.2f}{c['RDP']:<12.2f}{c['UDP']:<12.2f}{c['CP']:<12.2f}\")\n",
    "import pandas as pd\n",
    "df = pd.DataFrame(cattle_list)\n",
    "df.to_csv(\"cattle_data.csv\", index=False)\n",
    "print(\"\\nData also saved to 'cattle_data.csv'\")"
   ]
  },
  {
   "cell_type": "code",
   "execution_count": null,
   "id": "7888cd2b-5097-4032-9b0f-8493e987adc4",
   "metadata": {},
   "outputs": [],
   "source": []
  }
 ],
 "metadata": {
  "kernelspec": {
   "display_name": "Python 3 (ipykernel)",
   "language": "python",
   "name": "python3"
  },
  "language_info": {
   "codemirror_mode": {
    "name": "ipython",
    "version": 3
   },
   "file_extension": ".py",
   "mimetype": "text/x-python",
   "name": "python",
   "nbconvert_exporter": "python",
   "pygments_lexer": "ipython3",
   "version": "3.13.2"
  }
 },
 "nbformat": 4,
 "nbformat_minor": 5
}
